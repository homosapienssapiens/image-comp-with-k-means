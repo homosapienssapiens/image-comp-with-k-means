{
 "cells": [
  {
   "cell_type": "code",
   "execution_count": 1,
   "id": "b3d8b99e",
   "metadata": {},
   "outputs": [],
   "source": [
    "import numpy as np\n",
    "import cv2\n",
    "import matplotlib.pyplot as plt\n",
    "\n",
    "def kmeans_img_cp(image_name, new_image_name, clusters):\n",
    "    try:\n",
    "        # Load the image\n",
    "        img = cv2.imread(image_name)\n",
    "\n",
    "        # Convert the image to a floating point representation\n",
    "        img = np.float32(img)\n",
    "\n",
    "        # Reshape the image into a 2D array of pixels\n",
    "        pixels = img.reshape(-1, 3)\n",
    "\n",
    "        # Perform k-means clustering on the pixel data\n",
    "        criteria = (cv2.TERM_CRITERIA_EPS + cv2.TERM_CRITERIA_MAX_ITER, 10, 1.0)\n",
    "        flags = cv2.KMEANS_RANDOM_CENTERS\n",
    "        compactness, labels, centers = cv2.kmeans(pixels, clusters, None, criteria, 10, flags)\n",
    "\n",
    "        # Convert the centers to 8-bit integers\n",
    "        centers = np.uint8(centers)\n",
    "\n",
    "        # Convert the labels to 8-bit integers\n",
    "        labels = np.uint8(labels.reshape(img.shape[0], img.shape[1]))\n",
    "\n",
    "        # Compress the image using the quantized colors\n",
    "        compressed_img = centers[labels]\n",
    "        compressed_img = compressed_img.reshape(img.shape).astype(np.uint8)\n",
    "\n",
    "        cv2.imwrite(new_image_name, compressed_img)\n",
    "        print(\"Image generated successfully\")\n",
    "    except Exception as e:\n",
    "        print(f\"Error generating image: {e}\")\n",
    "        "
   ]
  },
  {
   "cell_type": "code",
   "execution_count": 2,
   "id": "abc733ae",
   "metadata": {},
   "outputs": [
    {
     "name": "stdout",
     "output_type": "stream",
     "text": [
      "Image generated successfully\n"
     ]
    }
   ],
   "source": [
    "kmeans_img_cp('images/image.jpg', 'images/km_image_8.jpg', 8)"
   ]
  },
  {
   "cell_type": "code",
   "execution_count": 3,
   "id": "d7ca6951",
   "metadata": {},
   "outputs": [
    {
     "name": "stdout",
     "output_type": "stream",
     "text": [
      "Image generated successfully\n"
     ]
    }
   ],
   "source": [
    "kmeans_img_cp('images/image.jpg', 'images/km_image_64.jpg', 64)"
   ]
  },
  {
   "cell_type": "code",
   "execution_count": 4,
   "id": "8d552f3a",
   "metadata": {},
   "outputs": [
    {
     "name": "stdout",
     "output_type": "stream",
     "text": [
      "Image generated successfully\n"
     ]
    }
   ],
   "source": [
    "kmeans_img_cp('images/image.jpg', 'images/km_image_512.jpg', 512)"
   ]
  },
  {
   "cell_type": "code",
   "execution_count": 5,
   "id": "7131bc2b",
   "metadata": {},
   "outputs": [],
   "source": [
    "import numpy as np\n",
    "import cv2\n",
    "import matplotlib.pyplot as plt\n",
    "from sklearn.decomposition import PCA\n",
    "\n",
    "def kmeans_img_cp_with_pca(image_name, new_image_name, clusters):\n",
    "    try:\n",
    "        # Load the image\n",
    "        img = cv2.imread(image_name)\n",
    "\n",
    "        # Convert the image to a floating point representation\n",
    "        img = np.float32(img)\n",
    "\n",
    "        # Reshape the image into a 2D array of pixels\n",
    "        pixels = img.reshape(-1, 3)\n",
    "\n",
    "        # Apply PCA to the pixel data\n",
    "        pca = PCA(n_components=3)\n",
    "        pixels = pca.fit_transform(pixels)\n",
    "\n",
    "        # Perform k-means clustering on the pixel data\n",
    "        criteria = (cv2.TERM_CRITERIA_EPS + cv2.TERM_CRITERIA_MAX_ITER, 10, 1.0)\n",
    "        flags = cv2.KMEANS_RANDOM_CENTERS\n",
    "        compactness, labels, centers = cv2.kmeans(pixels, clusters, None, criteria, 10, flags)\n",
    "\n",
    "        # Convert the centers back to the original dimension space\n",
    "        centers = pca.inverse_transform(centers)\n",
    "\n",
    "        # Convert the centers to 8-bit integers\n",
    "        centers = np.uint8(centers)\n",
    "\n",
    "        # Convert the labels to 8-bit integers\n",
    "        labels = np.uint8(labels.reshape(img.shape[0], img.shape[1]))\n",
    "\n",
    "        # Compress the image using the quantized colors\n",
    "        compressed_img = centers[labels]\n",
    "        compressed_img = compressed_img.reshape(img.shape).astype(np.uint8)\n",
    "\n",
    "        cv2.imwrite(new_image_name, compressed_img)\n",
    "        print(\"Image generated successfully\")\n",
    "    except Exception as e:\n",
    "        print(f\"Error generating image: {e}\")\n"
   ]
  },
  {
   "cell_type": "code",
   "execution_count": 6,
   "id": "b8f51e7c",
   "metadata": {},
   "outputs": [
    {
     "name": "stdout",
     "output_type": "stream",
     "text": [
      "Image generated successfully\n"
     ]
    }
   ],
   "source": [
    "kmeans_img_cp_with_pca('images/image.jpg', 'images/km_pca_image_8.jpg', 8)"
   ]
  },
  {
   "cell_type": "code",
   "execution_count": 7,
   "id": "783dfc97",
   "metadata": {},
   "outputs": [
    {
     "name": "stdout",
     "output_type": "stream",
     "text": [
      "Image generated successfully\n"
     ]
    }
   ],
   "source": [
    "kmeans_img_cp_with_pca('images/image.jpg', 'images/km_pca_image_64.jpg', 64)"
   ]
  },
  {
   "cell_type": "code",
   "execution_count": 8,
   "id": "53413d68",
   "metadata": {},
   "outputs": [
    {
     "name": "stdout",
     "output_type": "stream",
     "text": [
      "Image generated successfully\n"
     ]
    }
   ],
   "source": [
    "kmeans_img_cp_with_pca('images/image.jpg', 'images/km_pca_image_512.jpg', 512)"
   ]
  },
  {
   "cell_type": "code",
   "execution_count": null,
   "id": "77f670b8",
   "metadata": {},
   "outputs": [],
   "source": []
  }
 ],
 "metadata": {
  "kernelspec": {
   "display_name": "Python 3 (ipykernel)",
   "language": "python",
   "name": "python3"
  },
  "language_info": {
   "codemirror_mode": {
    "name": "ipython",
    "version": 3
   },
   "file_extension": ".py",
   "mimetype": "text/x-python",
   "name": "python",
   "nbconvert_exporter": "python",
   "pygments_lexer": "ipython3",
   "version": "3.9.7"
  }
 },
 "nbformat": 4,
 "nbformat_minor": 5
}
